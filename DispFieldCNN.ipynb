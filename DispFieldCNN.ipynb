{
  "nbformat": 4,
  "nbformat_minor": 0,
  "metadata": {
    "colab": {
      "provenance": []
    },
    "kernelspec": {
      "name": "python3",
      "display_name": "Python 3"
    },
    "language_info": {
      "name": "python"
    }
  },
  "cells": [
    {
      "cell_type": "code",
      "source": [
        "# import numpy as np\n",
        "\n",
        "# properties = np.zeros(401)\n",
        "# for i in range (500) :\n",
        "#     with open(f'/content/drive/MyDrive/femcode11(DL_executed)-20240513T044442Z-001/femcode(DL_executed)/cont_ver2/prop{i}.dat', 'r') as prop:\n",
        "#         prop1 = prop.read()\n",
        "#     prop_s = prop1.split()\n",
        "#     prop_a = np.array(prop_s)\n",
        "\n",
        "#     prop_n= np.delete(prop_a,0)\n",
        "#     prop_n = np.delete(prop_n,0)\n",
        "#     for j in range (13) :\n",
        "#         prop_n = np.delete(prop_n,-1)\n",
        "\n",
        "#     prop2 = np.array([])\n",
        "#     for i in range (401) :\n",
        "#         prop2 = np.append(prop2,float(prop_a[i]))\n",
        "\n",
        "#     properties = np.vstack((properties,prop2))\n",
        "\n",
        "# Properties = np.delete(properties,0,0)\n",
        "\n",
        "# Properties = Properties.reshape(500,401,1)\n",
        "# print(Properties.shape)\n",
        "\n",
        "\n",
        "\n",
        "\n",
        "import numpy as np\n",
        "\n",
        "properties = np.zeros(401)\n",
        "for file_index in range(500):\n",
        "    with open(f'/content/drive/MyDrive/femcode11(DL_executed)-20240513T044442Z-001/femcode(DL_executed)/cont_ver2/prop{file_index}.dat', 'r') as prop_file:\n",
        "        prop_data = prop_file.read()\n",
        "    prop_values = np.array(prop_data.split())\n",
        "    prop_values = np.delete(prop_values, [0, 1])  # Removing first two elements\n",
        "    prop_values = np.delete(prop_values, range(-1, -14, -1))  # Removing last 13 elements\n",
        "\n",
        "    # Convert remaining values to float and append to prop2\n",
        "    prop2 = np.array([])\n",
        "    for value in prop_values:\n",
        "        prop2 = np.append(prop2, float(value))\n",
        "\n",
        "    properties = np.vstack((properties, prop2))\n",
        "\n",
        "Properties = np.delete(properties, 0, axis=0)\n",
        "Properties = Properties.reshape(500, 401, 1)\n",
        "print(Properties.shape)\n"
      ],
      "metadata": {
        "colab": {
          "base_uri": "https://localhost:8080/",
          "height": 349
        },
        "id": "aMQ6I18i1fVV",
        "outputId": "198eee8f-8f03-4a7b-e5fb-aa10e1d78798"
      },
      "execution_count": null,
      "outputs": [
        {
          "output_type": "error",
          "ename": "ValueError",
          "evalue": "all the input array dimensions except for the concatenation axis must match exactly, but along dimension 1, the array at index 0 has size 401 and the array at index 1 has size 346",
          "traceback": [
            "\u001b[0;31m---------------------------------------------------------------------------\u001b[0m",
            "\u001b[0;31mValueError\u001b[0m                                Traceback (most recent call last)",
            "\u001b[0;32m<ipython-input-4-5c53f088f4fa>\u001b[0m in \u001b[0;36m<cell line: 32>\u001b[0;34m()\u001b[0m\n\u001b[1;32m     42\u001b[0m         \u001b[0mprop2\u001b[0m \u001b[0;34m=\u001b[0m \u001b[0mnp\u001b[0m\u001b[0;34m.\u001b[0m\u001b[0mappend\u001b[0m\u001b[0;34m(\u001b[0m\u001b[0mprop2\u001b[0m\u001b[0;34m,\u001b[0m \u001b[0mfloat\u001b[0m\u001b[0;34m(\u001b[0m\u001b[0mvalue\u001b[0m\u001b[0;34m)\u001b[0m\u001b[0;34m)\u001b[0m\u001b[0;34m\u001b[0m\u001b[0;34m\u001b[0m\u001b[0m\n\u001b[1;32m     43\u001b[0m \u001b[0;34m\u001b[0m\u001b[0m\n\u001b[0;32m---> 44\u001b[0;31m     \u001b[0mproperties\u001b[0m \u001b[0;34m=\u001b[0m \u001b[0mnp\u001b[0m\u001b[0;34m.\u001b[0m\u001b[0mvstack\u001b[0m\u001b[0;34m(\u001b[0m\u001b[0;34m(\u001b[0m\u001b[0mproperties\u001b[0m\u001b[0;34m,\u001b[0m \u001b[0mprop2\u001b[0m\u001b[0;34m)\u001b[0m\u001b[0;34m)\u001b[0m\u001b[0;34m\u001b[0m\u001b[0;34m\u001b[0m\u001b[0m\n\u001b[0m\u001b[1;32m     45\u001b[0m \u001b[0;34m\u001b[0m\u001b[0m\n\u001b[1;32m     46\u001b[0m \u001b[0mProperties\u001b[0m \u001b[0;34m=\u001b[0m \u001b[0mnp\u001b[0m\u001b[0;34m.\u001b[0m\u001b[0mdelete\u001b[0m\u001b[0;34m(\u001b[0m\u001b[0mproperties\u001b[0m\u001b[0;34m,\u001b[0m \u001b[0;36m0\u001b[0m\u001b[0;34m,\u001b[0m \u001b[0maxis\u001b[0m\u001b[0;34m=\u001b[0m\u001b[0;36m0\u001b[0m\u001b[0;34m)\u001b[0m\u001b[0;34m\u001b[0m\u001b[0;34m\u001b[0m\u001b[0m\n",
            "\u001b[0;32m/usr/local/lib/python3.10/dist-packages/numpy/core/shape_base.py\u001b[0m in \u001b[0;36mvstack\u001b[0;34m(tup, dtype, casting)\u001b[0m\n\u001b[1;32m    287\u001b[0m     \u001b[0;32mif\u001b[0m \u001b[0;32mnot\u001b[0m \u001b[0misinstance\u001b[0m\u001b[0;34m(\u001b[0m\u001b[0marrs\u001b[0m\u001b[0;34m,\u001b[0m \u001b[0mlist\u001b[0m\u001b[0;34m)\u001b[0m\u001b[0;34m:\u001b[0m\u001b[0;34m\u001b[0m\u001b[0;34m\u001b[0m\u001b[0m\n\u001b[1;32m    288\u001b[0m         \u001b[0marrs\u001b[0m \u001b[0;34m=\u001b[0m \u001b[0;34m[\u001b[0m\u001b[0marrs\u001b[0m\u001b[0;34m]\u001b[0m\u001b[0;34m\u001b[0m\u001b[0;34m\u001b[0m\u001b[0m\n\u001b[0;32m--> 289\u001b[0;31m     \u001b[0;32mreturn\u001b[0m \u001b[0m_nx\u001b[0m\u001b[0;34m.\u001b[0m\u001b[0mconcatenate\u001b[0m\u001b[0;34m(\u001b[0m\u001b[0marrs\u001b[0m\u001b[0;34m,\u001b[0m \u001b[0;36m0\u001b[0m\u001b[0;34m,\u001b[0m \u001b[0mdtype\u001b[0m\u001b[0;34m=\u001b[0m\u001b[0mdtype\u001b[0m\u001b[0;34m,\u001b[0m \u001b[0mcasting\u001b[0m\u001b[0;34m=\u001b[0m\u001b[0mcasting\u001b[0m\u001b[0;34m)\u001b[0m\u001b[0;34m\u001b[0m\u001b[0;34m\u001b[0m\u001b[0m\n\u001b[0m\u001b[1;32m    290\u001b[0m \u001b[0;34m\u001b[0m\u001b[0m\n\u001b[1;32m    291\u001b[0m \u001b[0;34m\u001b[0m\u001b[0m\n",
            "\u001b[0;31mValueError\u001b[0m: all the input array dimensions except for the concatenation axis must match exactly, but along dimension 1, the array at index 0 has size 401 and the array at index 1 has size 346"
          ]
        }
      ]
    },
    {
      "cell_type": "code",
      "source": [
        "from google.colab import drive\n",
        "drive.mount('/content/drive')"
      ],
      "metadata": {
        "colab": {
          "base_uri": "https://localhost:8080/"
        },
        "id": "XfsKF61rYfbE",
        "outputId": "d2c304e3-d99a-415d-efce-d772a819c7a4"
      },
      "execution_count": null,
      "outputs": [
        {
          "output_type": "stream",
          "name": "stdout",
          "text": [
            "Mounted at /content/drive\n"
          ]
        }
      ]
    },
    {
      "cell_type": "code",
      "source": [
        "displacement = np.zeros(1681)\n",
        "for i in range(500):\n",
        "    with open(f'/content/drive/MyDrive/disp/displacement{i}', 'r') as disp_file:\n",
        "        disp_content = disp_file.read()\n",
        "    disp_split = disp_content.split()\n",
        "    disp_arr = np.array(disp_split)\n",
        "\n",
        "    # Removing unwanted elements\n",
        "    disp_arr = np.delete(disp_arr, 0)\n",
        "    disp_arr = np.delete(disp_arr, 0)\n",
        "    for j in range(13):\n",
        "        disp_arr = np.delete(disp_arr, -1)\n",
        "\n",
        "    disp_data = np.array([])\n",
        "    for i in range(1681):\n",
        "        disp_data = np.append(disp_data, float(disp_arr[i]))\n",
        "\n",
        "    displacement = np.vstack((displacement, disp_data))\n",
        "\n",
        "Displacement = np.delete(displacement, 0, 0)\n",
        "\n",
        "Displacement = Displacement.reshape(500, 1681, 1)\n",
        "print(Displacement.shape)\n"
      ],
      "metadata": {
        "colab": {
          "base_uri": "https://localhost:8080/"
        },
        "id": "RUwkJXVh5Swu",
        "outputId": "68fa0ef3-556e-4633-fdee-dcedb54175c8"
      },
      "execution_count": null,
      "outputs": [
        {
          "output_type": "stream",
          "name": "stdout",
          "text": [
            "(500, 1681, 1)\n"
          ]
        }
      ]
    },
    {
      "cell_type": "code",
      "source": [
        "import numpy as np\n",
        "from sklearn.model_selection import train_test_split\n",
        "import tensorflow as tf\n",
        "from tensorflow.keras import layers, models\n",
        "\n",
        "# Load and reshape properties data\n",
        "properties = np.zeros(401)\n",
        "for i in range(500):\n",
        "    with open(f'/content/drive/MyDrive/prop/prop{i}.dat', 'r') as prop:\n",
        "        prop1 = prop.read()\n",
        "    prop_s = prop1.split()\n",
        "    prop_a = np.array(prop_s)\n",
        "\n",
        "    prop_n = np.delete(prop_a, 0)\n",
        "    prop_n = np.delete(prop_n, 0)\n",
        "    for j in range(13):\n",
        "        prop_n = np.delete(prop_n, -1)\n",
        "\n",
        "    prop2 = np.array([])\n",
        "    for i in range(401):\n",
        "        prop2 = np.append(prop2, float(prop_a[i]))\n",
        "\n",
        "    properties = np.vstack((properties, prop2))\n",
        "\n",
        "Properties = np.delete(properties, 0, 0)\n",
        "Properties = Properties.reshape(500, 401, 1)\n",
        "\n",
        "# Load and reshape displacement data\n",
        "displacement = np.zeros(1681)\n",
        "for i in range(500):\n",
        "    with open(f'/content/drive/MyDrive/disp/displacement{i}', 'r') as disp:\n",
        "        disp1 = disp.read()\n",
        "    disp_s = disp1.split()\n",
        "    disp_a = np.array(disp_s)\n",
        "\n",
        "    disp_n = np.delete(disp_a, 0)\n",
        "    for j in range(1681):\n",
        "        disp_n = np.delete(disp_n, -1)\n",
        "\n",
        "    disp2 = np.array([])\n",
        "    for i in range(1681):\n",
        "        disp2 = np.append(disp2, float(disp_a[i]))\n",
        "\n",
        "    displacement = np.vstack((displacement, disp2))\n",
        "\n",
        "Displacement = np.delete(displacement, 0, 0)\n",
        "Displacement = Displacement.reshape(500, 1681, 1)\n",
        "\n",
        "# Splitting the data into training and testing sets\n",
        "X_train, X_test, y_train, y_test = train_test_split(Properties, Displacement, test_size=0.2, random_state=42)\n",
        "\n",
        "# Define the CNN model\n",
        "model = models.Sequential([\n",
        "    layers.Conv1D(200, kernel_size=3, activation='relu', input_shape=(401, 1)),\n",
        "    layers.MaxPooling1D(pool_size=2),\n",
        "    layers.Conv1D(200, kernel_size=3, activation='relu'),\n",
        "    layers.MaxPooling1D(pool_size=2),\n",
        "    layers.Flatten(),\n",
        "    layers.Dense(1681, activation='relu'),\n",
        "    layers.Reshape((1681,1))  # Output layer reshaped to match the displacement vector\n",
        "])\n",
        "\n",
        "model.compile(optimizer='adam', loss='mse', metrics=['accuracy'])\n",
        "\n",
        "# Train the model\n",
        "model.fit(X_train, y_train, epochs=10, batch_size=32, validation_data=(X_test, y_test))\n",
        "\n",
        "# Evaluate the model\n",
        "loss, accuracy = model.evaluate(X_test, y_test)\n",
        "#print(\"Loss:\", loss)\n",
        "print(\"Accuracy:\", accuracy)\n"
      ],
      "metadata": {
        "colab": {
          "base_uri": "https://localhost:8080/",
          "height": 332
        },
        "id": "vN4Gko987OHO",
        "outputId": "55560d10-0d48-45b4-fafa-e3c5742af2ee"
      },
      "execution_count": null,
      "outputs": [
        {
          "output_type": "error",
          "ename": "KeyboardInterrupt",
          "evalue": "",
          "traceback": [
            "\u001b[0;31m---------------------------------------------------------------------------\u001b[0m",
            "\u001b[0;31mKeyboardInterrupt\u001b[0m                         Traceback (most recent call last)",
            "\u001b[0;32m<ipython-input-49-a1a72d67acea>\u001b[0m in \u001b[0;36m<cell line: 8>\u001b[0;34m()\u001b[0m\n\u001b[1;32m     19\u001b[0m     \u001b[0mprop2\u001b[0m \u001b[0;34m=\u001b[0m \u001b[0mnp\u001b[0m\u001b[0;34m.\u001b[0m\u001b[0marray\u001b[0m\u001b[0;34m(\u001b[0m\u001b[0;34m[\u001b[0m\u001b[0;34m]\u001b[0m\u001b[0;34m)\u001b[0m\u001b[0;34m\u001b[0m\u001b[0;34m\u001b[0m\u001b[0m\n\u001b[1;32m     20\u001b[0m     \u001b[0;32mfor\u001b[0m \u001b[0mi\u001b[0m \u001b[0;32min\u001b[0m \u001b[0mrange\u001b[0m\u001b[0;34m(\u001b[0m\u001b[0;36m401\u001b[0m\u001b[0;34m)\u001b[0m\u001b[0;34m:\u001b[0m\u001b[0;34m\u001b[0m\u001b[0;34m\u001b[0m\u001b[0m\n\u001b[0;32m---> 21\u001b[0;31m         \u001b[0mprop2\u001b[0m \u001b[0;34m=\u001b[0m \u001b[0mnp\u001b[0m\u001b[0;34m.\u001b[0m\u001b[0mappend\u001b[0m\u001b[0;34m(\u001b[0m\u001b[0mprop2\u001b[0m\u001b[0;34m,\u001b[0m \u001b[0mfloat\u001b[0m\u001b[0;34m(\u001b[0m\u001b[0mprop_a\u001b[0m\u001b[0;34m[\u001b[0m\u001b[0mi\u001b[0m\u001b[0;34m]\u001b[0m\u001b[0;34m)\u001b[0m\u001b[0;34m)\u001b[0m\u001b[0;34m\u001b[0m\u001b[0;34m\u001b[0m\u001b[0m\n\u001b[0m\u001b[1;32m     22\u001b[0m \u001b[0;34m\u001b[0m\u001b[0m\n\u001b[1;32m     23\u001b[0m     \u001b[0mproperties\u001b[0m \u001b[0;34m=\u001b[0m \u001b[0mnp\u001b[0m\u001b[0;34m.\u001b[0m\u001b[0mvstack\u001b[0m\u001b[0;34m(\u001b[0m\u001b[0;34m(\u001b[0m\u001b[0mproperties\u001b[0m\u001b[0;34m,\u001b[0m \u001b[0mprop2\u001b[0m\u001b[0;34m)\u001b[0m\u001b[0;34m)\u001b[0m\u001b[0;34m\u001b[0m\u001b[0;34m\u001b[0m\u001b[0m\n",
            "\u001b[0;32m/usr/local/lib/python3.10/dist-packages/numpy/lib/function_base.py\u001b[0m in \u001b[0;36mappend\u001b[0;34m(arr, values, axis)\u001b[0m\n\u001b[1;32m   5615\u001b[0m         \u001b[0mvalues\u001b[0m \u001b[0;34m=\u001b[0m \u001b[0mravel\u001b[0m\u001b[0;34m(\u001b[0m\u001b[0mvalues\u001b[0m\u001b[0;34m)\u001b[0m\u001b[0;34m\u001b[0m\u001b[0;34m\u001b[0m\u001b[0m\n\u001b[1;32m   5616\u001b[0m         \u001b[0maxis\u001b[0m \u001b[0;34m=\u001b[0m \u001b[0marr\u001b[0m\u001b[0;34m.\u001b[0m\u001b[0mndim\u001b[0m\u001b[0;34m-\u001b[0m\u001b[0;36m1\u001b[0m\u001b[0;34m\u001b[0m\u001b[0;34m\u001b[0m\u001b[0m\n\u001b[0;32m-> 5617\u001b[0;31m     \u001b[0;32mreturn\u001b[0m \u001b[0mconcatenate\u001b[0m\u001b[0;34m(\u001b[0m\u001b[0;34m(\u001b[0m\u001b[0marr\u001b[0m\u001b[0;34m,\u001b[0m \u001b[0mvalues\u001b[0m\u001b[0;34m)\u001b[0m\u001b[0;34m,\u001b[0m \u001b[0maxis\u001b[0m\u001b[0;34m=\u001b[0m\u001b[0maxis\u001b[0m\u001b[0;34m)\u001b[0m\u001b[0;34m\u001b[0m\u001b[0;34m\u001b[0m\u001b[0m\n\u001b[0m\u001b[1;32m   5618\u001b[0m \u001b[0;34m\u001b[0m\u001b[0m\n\u001b[1;32m   5619\u001b[0m \u001b[0;34m\u001b[0m\u001b[0m\n",
            "\u001b[0;31mKeyboardInterrupt\u001b[0m: "
          ]
        }
      ]
    },
    {
      "cell_type": "code",
      "source": [
        "import matplotlib.pyplot as plt\n",
        "history = model.fit(X_train, y_train, epochs=10, batch_size=32, validation_data=(X_test, y_test))\n",
        "plt.plot(history.history['loss'], label='Training Loss')\n",
        "plt.plot(history.history['val_loss'], label='Validation Loss')\n",
        "plt.xlabel('Epoch')\n",
        "plt.ylabel('Loss')\n",
        "plt.title('Training and Validation Loss')\n",
        "plt.legend()\n",
        "plt.show()\n"
      ],
      "metadata": {
        "colab": {
          "base_uri": "https://localhost:8080/",
          "height": 839
        },
        "id": "saCbrj25BLNO",
        "outputId": "db96dabc-65db-4449-b0a6-fdff744da81c"
      },
      "execution_count": null,
      "outputs": [
        {
          "output_type": "stream",
          "name": "stdout",
          "text": [
            "Epoch 1/10\n",
            "13/13 [==============================] - 14s 1s/step - loss: 14851.7363 - accuracy: 0.0553 - val_loss: 1344006782976.0000 - val_accuracy: 0.0553\n",
            "Epoch 2/10\n",
            "13/13 [==============================] - 14s 1s/step - loss: 14851.7363 - accuracy: 0.0553 - val_loss: 1344007700480.0000 - val_accuracy: 0.0553\n",
            "Epoch 3/10\n",
            "13/13 [==============================] - 14s 1s/step - loss: 14851.7363 - accuracy: 0.0553 - val_loss: 1344005079040.0000 - val_accuracy: 0.0553\n",
            "Epoch 4/10\n",
            "13/13 [==============================] - 15s 1s/step - loss: 14851.7363 - accuracy: 0.0553 - val_loss: 1344005472256.0000 - val_accuracy: 0.0553\n",
            "Epoch 5/10\n",
            "13/13 [==============================] - 15s 1s/step - loss: 14851.7363 - accuracy: 0.0553 - val_loss: 1344005472256.0000 - val_accuracy: 0.0553\n",
            "Epoch 6/10\n",
            "13/13 [==============================] - 15s 1s/step - loss: 14851.7363 - accuracy: 0.0553 - val_loss: 1344005472256.0000 - val_accuracy: 0.0553\n",
            "Epoch 7/10\n",
            "13/13 [==============================] - 15s 1s/step - loss: 14851.7363 - accuracy: 0.0553 - val_loss: 1344005472256.0000 - val_accuracy: 0.0553\n",
            "Epoch 8/10\n",
            "13/13 [==============================] - 14s 1s/step - loss: 14851.7363 - accuracy: 0.0553 - val_loss: 1344005472256.0000 - val_accuracy: 0.0553\n",
            "Epoch 9/10\n",
            "13/13 [==============================] - 14s 1s/step - loss: 14851.7363 - accuracy: 0.0553 - val_loss: 1344005472256.0000 - val_accuracy: 0.0553\n",
            "Epoch 10/10\n",
            "13/13 [==============================] - 14s 1s/step - loss: 14851.7363 - accuracy: 0.0553 - val_loss: 1344005472256.0000 - val_accuracy: 0.0553\n"
          ]
        },
        {
          "output_type": "display_data",
          "data": {
            "text/plain": [
              "<Figure size 640x480 with 1 Axes>"
            ],
            "image/png": "[encoded data removed]"
          },
          "metadata": {}
        }
      ]
    }
  ]
}